import pandas as pd
import numpy as np
from sklearn.model_selection import train_test_split
from sklearn.preprocessing import StandardScaler
from sklearn.linear_model import LogisticRegression
from sklearn.ensemble import RandomForestClassifier
from sklearn.metrics import accuracy_score, classification_report
import joblib
columns = [
    "Pregnancies", "Glucose", "BloodPressure", "SkinThickness",
    "Insulin", "BMI", "DiabetesPedigreeFunction", "Age", "Outcome"
]
data = pd.read_csv("/content/drive/MyDrive/dataset/disease_data_sample.csv")
data
data["Pregnancies"]=data["Pregnancies"].astype(float)
data.info()
X = data.drop("Outcome", axis=1)
y = data["Outcome"]
X_train, X_test, y_train, y_test = train_test_split(
    X, y, test_size=0.2, random_state=42
)
scaler = StandardScaler()
X_train = scaler.fit_transform(X_train)
X_test = scaler.transform(X_test)
log_reg = LogisticRegression(max_iter=1000)
log_reg.fit(X_train, y_train)
y_pred1 = log_reg.predict(X_test)
print("Logistic Regression Accuracy:", accuracy_score(y_test, y_pred1))
rf = RandomForestClassifier(n_estimators=100, random_state=42)
rf.fit(X_train, y_train)
y_pred2 = rf.predict(X_test)
print("Random Forest Accuracy:", accuracy_score(y_test, y_pred2))
print("\nClassification Report (Random Forest):\n")
print(classification_report(y_test, y_pred2))
joblib.dump(rf, "disease_model.pkl")
joblib.dump(scaler, "scaler.pkl")
print("✅ Model and scaler saved!")
